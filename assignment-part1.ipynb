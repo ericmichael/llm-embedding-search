{
 "cells": [
  {
   "cell_type": "markdown",
   "id": "8ec2fef2",
   "metadata": {
    "slideshow": {
     "slide_type": "slide"
    }
   },
   "source": [
    "# Embedding Search\n",
    "* **Created by:** Eric Martinez\n",
    "* **For:** CSCI 4341\n",
    "* **At:** University of Texas Rio-Grande Valley"
   ]
  },
  {
   "cell_type": "markdown",
   "id": "306568dd",
   "metadata": {},
   "source": [
    "## Step 0: Setup your `.env` file locally"
   ]
  },
  {
   "cell_type": "markdown",
   "id": "01461871",
   "metadata": {},
   "source": [
    "Setup your `OPENAI_API_BASE` key and `OPENAI_API_KEY` in a file `.env` in this same folder."
   ]
  },
  {
   "cell_type": "markdown",
   "id": "6f0f07b1",
   "metadata": {},
   "source": [
    "```sh\n",
    "# example .env contents (copy paste this into a .env file)\n",
    "OPENAI_API_BASE=yourapibase\n",
    "OPENAI_API_KEY=yourapikey\n",
    "```"
   ]
  },
  {
   "cell_type": "markdown",
   "id": "7ee2dfdb",
   "metadata": {},
   "source": [
    "Install the required dependencies."
   ]
  },
  {
   "cell_type": "code",
   "execution_count": null,
   "id": "faeef3e1",
   "metadata": {},
   "outputs": [],
   "source": [
    "%pip install -q -r requirements.txt"
   ]
  },
  {
   "cell_type": "markdown",
   "id": "ffb051ff",
   "metadata": {
    "slideshow": {
     "slide_type": "slide"
    }
   },
   "source": [
    "## Step 1: Create the Dataset"
   ]
  },
  {
   "cell_type": "markdown",
   "id": "e8aa315a",
   "metadata": {
    "slideshow": {
     "slide_type": "slide"
    }
   },
   "source": [
    "Create a dataset of restaurant data."
   ]
  },
  {
   "cell_type": "markdown",
   "id": "1eadb1a7",
   "metadata": {
    "slideshow": {
     "slide_type": "slide"
    }
   },
   "source": [
    "This example is just to get you started.\n",
    "\n",
    "It should include:\n",
    "    \n",
    "- The name of the restaurant\n",
    "- The address of the restaurant (with city, state, zip)\n",
    "- The rating of the restaurant\n",
    "- Description of the restaurant including the type of food / drinks they have."
   ]
  },
  {
   "cell_type": "code",
   "execution_count": 1,
   "id": "0f86b931",
   "metadata": {
    "scrolled": true
   },
   "outputs": [
    {
     "name": "stdout",
     "output_type": "stream",
     "text": [
      "Overwriting data.json\n"
     ]
    }
   ],
   "source": [
    "%%writefile data.json\n",
    "[\n",
    "    {\n",
    "        \"name\": \"Jason's Deli\",\n",
    "        \"address\": \"1604 W University Dr.\"\n",
    "    },\n",
    "    {\n",
    "        \"name\": \"Taco Palenque\",\n",
    "        \"address\": \"1414 W University Dr.\"\n",
    "    },\n",
    "    {\n",
    "        \"name\": \"University Drafthouse\",\n",
    "        \"address\": \"2405 W University Dr. F\"\n",
    "    }\n",
    "]"
   ]
  },
  {
   "cell_type": "markdown",
   "id": "2adf330b",
   "metadata": {
    "slideshow": {
     "slide_type": "slide"
    }
   },
   "source": [
    "Function to load the data"
   ]
  },
  {
   "cell_type": "code",
   "execution_count": 2,
   "id": "551920a1",
   "metadata": {},
   "outputs": [],
   "source": [
    "import json\n",
    "\n",
    "def load_data():\n",
    "    with open(\"data.json\") as f:\n",
    "        data = json.load(f)\n",
    "    return data"
   ]
  },
  {
   "cell_type": "markdown",
   "id": "69cf9c1a",
   "metadata": {},
   "source": [
    "Now actually load the data"
   ]
  },
  {
   "cell_type": "code",
   "execution_count": 3,
   "id": "a81db1f9",
   "metadata": {},
   "outputs": [
    {
     "name": "stdout",
     "output_type": "stream",
     "text": [
      "[{'name': \"Jason's Deli\", 'address': '1604 W University Dr.'}, {'name': 'Taco Palenque', 'address': '1414 W University Dr.'}, {'name': 'University Drafthouse', 'address': '2405 W University Dr. F'}]\n"
     ]
    }
   ],
   "source": [
    "data = load_data()\n",
    "print(data)"
   ]
  },
  {
   "cell_type": "markdown",
   "id": "8b3aec8b",
   "metadata": {
    "slideshow": {
     "slide_type": "slide"
    }
   },
   "source": [
    "## Step 2: Create Chroma Collection"
   ]
  },
  {
   "cell_type": "code",
   "execution_count": 5,
   "id": "9a12653f",
   "metadata": {},
   "outputs": [],
   "source": [
    "from dotenv import load_dotenv\n",
    "load_dotenv()  # take environment variables from .env.\n",
    "import os\n",
    "\n",
    "import chromadb\n",
    "from chromadb.utils import embedding_functions\n",
    "\n",
    "\n",
    "def get_chroma_collection(collection_name):\n",
    "    ## Use this one to save to memory\n",
    "    # chroma_client = chromadb.Client() \n",
    "\n",
    "    ## Use this one to save to disk\n",
    "    chroma_client = chromadb.PersistentClient(path=\".\")\n",
    "\n",
    "    openai_ef = embedding_functions.OpenAIEmbeddingFunction(\n",
    "                    api_key=os.getenv(\"OPENAI_API_KEY\"),\n",
    "                    api_base=os.getenv(\"OPENAI_API_BASE\"),\n",
    "                    model_name=\"text-embedding-ada-002\"\n",
    "                )\n",
    "\n",
    "    collection = chroma_client.get_or_create_collection(name=collection_name, embedding_function=openai_ef)\n",
    "    return collection"
   ]
  },
  {
   "cell_type": "code",
   "execution_count": 6,
   "id": "4acd817c",
   "metadata": {},
   "outputs": [],
   "source": [
    "collection = get_chroma_collection(\"food\")"
   ]
  },
  {
   "cell_type": "markdown",
   "id": "d20fa3ce",
   "metadata": {
    "slideshow": {
     "slide_type": "slide"
    }
   },
   "source": [
    "## Step 3: Add Data to Chroma Collection"
   ]
  },
  {
   "cell_type": "code",
   "execution_count": 7,
   "id": "91e44070",
   "metadata": {},
   "outputs": [],
   "source": [
    "def add_data_to_collection(data, collection):\n",
    "    documents = []\n",
    "    metadatas = []\n",
    "    ids = []\n",
    "\n",
    "    for i, restaurant in enumerate(data):\n",
    "        name = restaurant['name']\n",
    "        address = restaurant['address']\n",
    "        # add description, rating, etc\n",
    "\n",
    "        # what are we embedding for each restaurant - obviously add to this\n",
    "        embeddable_string = f\"{name}\"\n",
    "        documents.append(embeddable_string)\n",
    "\n",
    "        # lets just store everything we have as metadata\n",
    "        metadatas.append(restaurant)\n",
    "\n",
    "        # lets use the index as the id\n",
    "        ids.append(str(i))\n",
    "\n",
    "    collection.add(\n",
    "        documents=documents,\n",
    "        metadatas=metadatas,\n",
    "        ids=ids\n",
    "    )"
   ]
  },
  {
   "cell_type": "code",
   "execution_count": 9,
   "id": "1b97f8f6",
   "metadata": {},
   "outputs": [
    {
     "name": "stderr",
     "output_type": "stream",
     "text": [
      "Add of existing embedding ID: 0\n",
      "Add of existing embedding ID: 1\n",
      "Add of existing embedding ID: 2\n",
      "Insert of existing embedding ID: 0\n",
      "Insert of existing embedding ID: 1\n",
      "Insert of existing embedding ID: 2\n",
      "Add of existing embedding ID: 0\n",
      "Add of existing embedding ID: 1\n",
      "Add of existing embedding ID: 2\n"
     ]
    }
   ],
   "source": [
    "add_data_to_collection(data, collection)"
   ]
  },
  {
   "cell_type": "markdown",
   "id": "ca367acf",
   "metadata": {},
   "source": [
    "## Step 4: Query the Collection"
   ]
  },
  {
   "cell_type": "code",
   "execution_count": 10,
   "id": "be8392b4",
   "metadata": {},
   "outputs": [],
   "source": [
    "def get_results(query, n_results=2):\n",
    "    metadatas = []\n",
    "    n_results = 2\n",
    "    results = collection.query(query_texts=[query], n_results=n_results)\n",
    "    \n",
    "    for i in range(n_results):\n",
    "        metadatas.append(results[\"metadatas\"][0][i])\n",
    "        \n",
    "    return metadatas"
   ]
  },
  {
   "cell_type": "code",
   "execution_count": 11,
   "id": "d1b67a76",
   "metadata": {},
   "outputs": [
    {
     "name": "stdout",
     "output_type": "stream",
     "text": [
      "{'address': '1414 W University Dr.', 'name': 'Taco Palenque'}\n",
      "{'address': '1604 W University Dr', 'name': \"Jason's Deli\"}\n"
     ]
    }
   ],
   "source": [
    "results = get_results(\"fajita\", n_results=2)\n",
    "\n",
    "for result in results:\n",
    "    print(result)"
   ]
  },
  {
   "cell_type": "markdown",
   "id": "07bbae61",
   "metadata": {
    "slideshow": {
     "slide_type": "slide"
    }
   },
   "source": [
    "## Step 5: Build the Gradio UI"
   ]
  },
  {
   "cell_type": "code",
   "execution_count": 12,
   "id": "933d5201",
   "metadata": {},
   "outputs": [
    {
     "name": "stdout",
     "output_type": "stream",
     "text": [
      "Running on local URL:  http://127.0.0.1:7860\n",
      "Running on public URL: https://a324148dd8aeb0c087.gradio.live\n",
      "\n",
      "This share link expires in 72 hours. For free permanent hosting and GPU upgrades (NEW!), check out Spaces: https://huggingface.co/spaces\n"
     ]
    },
    {
     "data": {
      "text/html": [
       "<div><iframe src=\"https://a324148dd8aeb0c087.gradio.live\" width=\"100%\" height=\"500\" allow=\"autoplay; camera; microphone; clipboard-read; clipboard-write;\" frameborder=\"0\" allowfullscreen></iframe></div>"
      ],
      "text/plain": [
       "<IPython.core.display.HTML object>"
      ]
     },
     "metadata": {},
     "output_type": "display_data"
    }
   ],
   "source": [
    "from dotenv import load_dotenv\n",
    "load_dotenv()  # take environment variables from .env.\n",
    "import gradio as gr\n",
    "import openai\n",
    "import pandas as pd\n",
    "\n",
    "def search(query, n_results):\n",
    "    results = get_results(query, n_results=n_results)\n",
    "    \n",
    "    try:\n",
    "        df = pd.DataFrame(results, columns=['name', 'address'])\n",
    "        return df\n",
    "    except Exception as e:\n",
    "        raise gr.Error(e.message)\n",
    "\n",
    "with gr.Blocks() as demo:\n",
    "    with gr.Tab(\"Food Finder\"):\n",
    "        with gr.Row():\n",
    "            with gr.Column():\n",
    "                query = gr.Textbox(label=\"What are you looking for?\", lines=5)\n",
    "                n_results = gr.Slider(label=\"Results to Display\", minimum=0, maximum=10, value=2, step=1)\n",
    "                btn = gr.Button(value =\"Submit\")\n",
    "                table = gr.Dataframe(label=\"Results\", headers=['name', 'address'])\n",
    "            btn.click(search, inputs = [query, n_results], outputs = [table])\n",
    "    demo.launch(share=True)"
   ]
  },
  {
   "cell_type": "markdown",
   "id": "6ea0916b",
   "metadata": {
    "slideshow": {
     "slide_type": "slide"
    }
   },
   "source": [
    "## Your Job"
   ]
  },
  {
   "cell_type": "markdown",
   "id": "9bd1b1aa",
   "metadata": {},
   "source": [
    "#### 1. Expand the dataset fields\n",
    "\n",
    "Should include:\n",
    "    \n",
    "- The name of the restaurant\n",
    "- The address of the restaurant (with city, state, zip)\n",
    "- The rating of the restaurant\n",
    "- Description of the restaurant including the type of food (if restaurant) / drinks (if bar/cocktail type place) they have.\n",
    "    * You don't have to get too crazy here just we need to know what is special or unique about each place.\n",
    "    \n",
    "#### 2. Increase the dataset size to 30\n",
    "\n",
    "- In order for this to be useful we have to add more restaurants\n",
    "- Focus on higher quality restaurants than just listing every Mcdonalds / fast-food place\n",
    "\n",
    "#### 3. Modify the UI \n",
    "\n",
    "- Add description of the restaurant to the table\n",
    "- Add rating of the restaurant to the table"
   ]
  },
  {
   "cell_type": "markdown",
   "id": "136f7082",
   "metadata": {},
   "source": [
    "#### Submit"
   ]
  },
  {
   "cell_type": "code",
   "execution_count": null,
   "id": "aaf5db2e",
   "metadata": {},
   "outputs": [],
   "source": [
    "!git add assignment-part1.ipynb; git add assignment-part2.ipynb"
   ]
  },
  {
   "cell_type": "code",
   "execution_count": null,
   "id": "f449d091",
   "metadata": {},
   "outputs": [],
   "source": [
    "!git add data.json"
   ]
  },
  {
   "cell_type": "code",
   "execution_count": null,
   "id": "e15e79b9",
   "metadata": {},
   "outputs": [],
   "source": [
    "!git commit -m \"finished part 1\""
   ]
  },
  {
   "cell_type": "code",
   "execution_count": null,
   "id": "33f06a60",
   "metadata": {},
   "outputs": [],
   "source": [
    "!git push"
   ]
  },
  {
   "cell_type": "markdown",
   "id": "3a353ebf",
   "metadata": {
    "slideshow": {
     "slide_type": "-"
    }
   },
   "source": [
    "That's it! 🎉 Move on to Part 2."
   ]
  }
 ],
 "metadata": {
  "celltoolbar": "Slideshow",
  "kernelspec": {
   "display_name": "Python 3 (ipykernel)",
   "language": "python",
   "name": "python3"
  },
  "language_info": {
   "codemirror_mode": {
    "name": "ipython",
    "version": 3
   },
   "file_extension": ".py",
   "mimetype": "text/x-python",
   "name": "python",
   "nbconvert_exporter": "python",
   "pygments_lexer": "ipython3",
   "version": "3.10.8"
  }
 },
 "nbformat": 4,
 "nbformat_minor": 5
}
